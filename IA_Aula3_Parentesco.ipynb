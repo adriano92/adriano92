{
  "nbformat": 4,
  "nbformat_minor": 0,
  "metadata": {
    "colab": {
      "provenance": [],
      "include_colab_link": true
    },
    "kernelspec": {
      "name": "python3",
      "display_name": "Python 3"
    }
  },
  "cells": [
    {
      "cell_type": "markdown",
      "metadata": {
        "id": "view-in-github",
        "colab_type": "text"
      },
      "source": [
        "<a href=\"https://colab.research.google.com/github/adriano92/adriano92/blob/main/IA_Aula3_Parentesco.ipynb\" target=\"_parent\"><img src=\"https://colab.research.google.com/assets/colab-badge.svg\" alt=\"Open In Colab\"/></a>"
      ]
    },
    {
      "cell_type": "markdown",
      "metadata": {
        "id": "0rEjKiKKXkPf"
      },
      "source": [
        "# **Problema do Parentesco**\n",
        "*Prof. Orlando Junior*"
      ]
    },
    {
      "cell_type": "markdown",
      "source": [
        "Neste laboratório, você deverá utilizar a linguagem Python para programar logicamente os relacionamentos entre as diferentes pessoas de uma família. Para isso, você utilizará uma base de dados em JSON e uma biblioteca que adapta a programação em lógica tradicional (Prolog) para Python."
      ],
      "metadata": {
        "id": "eYRSFRv1ifMj"
      }
    },
    {
      "cell_type": "markdown",
      "source": [
        "## Laboratório"
      ],
      "metadata": {
        "id": "iWjdYhKOijTR"
      }
    },
    {
      "cell_type": "markdown",
      "source": [
        "### Bibliotecas"
      ],
      "metadata": {
        "id": "NHhn5t0lifjY"
      }
    },
    {
      "cell_type": "code",
      "metadata": {
        "id": "ikvfwwva2Xki",
        "colab": {
          "base_uri": "https://localhost:8080/"
        },
        "outputId": "cc6f93e0-f35f-4fcd-e552-1315e4e94deb"
      },
      "source": [
        "# Instala o LogPy (kanren) diretamente do Github\n",
        "!pip install git+https://github.com/logpy/logpy.git"
      ],
      "execution_count": null,
      "outputs": [
        {
          "output_type": "stream",
          "name": "stdout",
          "text": [
            "Looking in indexes: https://pypi.org/simple, https://us-python.pkg.dev/colab-wheels/public/simple/\n",
            "Collecting git+https://github.com/logpy/logpy.git\n",
            "  Cloning https://github.com/logpy/logpy.git to /tmp/pip-req-build-1zhgutt9\n",
            "  Running command git clone --filter=blob:none --quiet https://github.com/logpy/logpy.git /tmp/pip-req-build-1zhgutt9\n",
            "  Resolved https://github.com/logpy/logpy.git to commit b8b62fdcd2fbcb13303e78b2387d84cd55ecfd52\n",
            "  Preparing metadata (setup.py) ... \u001b[?25l\u001b[?25hdone\n",
            "Requirement already satisfied: toolz in /usr/local/lib/python3.9/dist-packages (from kanren==0.2.3) (0.12.0)\n",
            "Requirement already satisfied: multipledispatch in /usr/local/lib/python3.9/dist-packages (from kanren==0.2.3) (0.6.0)\n",
            "Collecting unification\n",
            "  Downloading unification-0.2.2-py2.py3-none-any.whl (10 kB)\n",
            "Requirement already satisfied: six in /usr/local/lib/python3.9/dist-packages (from multipledispatch->kanren==0.2.3) (1.15.0)\n",
            "Building wheels for collected packages: kanren\n",
            "  Building wheel for kanren (setup.py) ... \u001b[?25l\u001b[?25hdone\n",
            "  Created wheel for kanren: filename=kanren-0.2.3-py3-none-any.whl size=17777 sha256=11f71254e30ba6459a475d842dbb068d1b048da7473086696e16730781cddf5c\n",
            "  Stored in directory: /tmp/pip-ephem-wheel-cache-459ap0sf/wheels/d8/04/c1/5b0114867de12823786b799999fd1e36380ff0fab989678abc\n",
            "Successfully built kanren\n",
            "Installing collected packages: unification, kanren\n",
            "Successfully installed kanren-0.2.3 unification-0.2.2\n"
          ]
        }
      ]
    },
    {
      "cell_type": "code",
      "metadata": {
        "id": "gdV-ExO62I0L"
      },
      "source": [
        "# Importa as bibliotecas para leitura e manipulação de dados\n",
        "import json\n",
        "import kanren\n",
        "import kanren.assoccomm"
      ],
      "execution_count": null,
      "outputs": []
    },
    {
      "cell_type": "code",
      "metadata": {
        "id": "2qbddWNK6Jib",
        "colab": {
          "base_uri": "https://localhost:8080/"
        },
        "outputId": "b8e29c17-076f-4444-e6cb-2e1bafadec34"
      },
      "source": [
        "help(kanren.conde)"
      ],
      "execution_count": null,
      "outputs": [
        {
          "output_type": "stream",
          "name": "stdout",
          "text": [
            "Help on function conde in module kanren.core:\n",
            "\n",
            "conde(*goalseqs)\n",
            "    Logical cond\n",
            "    \n",
            "    Goal constructor to provides logical AND and OR\n",
            "    \n",
            "    conde((A, B, C), (D, E)) means (A and B and C) or (D and E)\n",
            "    Equivalent to the (A, B, C); (D, E) syntax in Prolog.\n",
            "    \n",
            "    See Also:\n",
            "        lall - logical all\n",
            "        lany - logical any\n",
            "\n"
          ]
        }
      ]
    },
    {
      "cell_type": "markdown",
      "metadata": {
        "id": "0bkVTxOh2ldp"
      },
      "source": [
        "### Funções de Relacionamentos"
      ]
    },
    {
      "cell_type": "code",
      "metadata": {
        "id": "9T0dTkgh2kvy"
      },
      "source": [
        "# Verifica se x é pai ou mãe de y\n",
        "def parent(x, y):\n",
        "    # father e mother já estão definidos na base de fatos\n",
        "    return kanren.conde([father(x, y)], [mother(x, y)])"
      ],
      "execution_count": null,
      "outputs": []
    },
    {
      "cell_type": "code",
      "metadata": {
        "id": "s8_5BFny2plQ"
      },
      "source": [
        "# Verifica se x é avô/avó de y\n",
        "# Se x é avô/avó de y, então a prole de x será pai/mãe de y\n",
        "def grandparent(x, y):\n",
        "    temp = kanren.var()\n",
        "    return kanren.conde((parent(x, temp), parent(temp, y)))"
      ],
      "execution_count": null,
      "outputs": []
    },
    {
      "cell_type": "markdown",
      "metadata": {
        "id": "WLtVCKRN3zAB"
      },
      "source": [
        "## Exercícios"
      ]
    },
    {
      "cell_type": "code",
      "source": [
        "help(kanren.Relation)"
      ],
      "metadata": {
        "id": "kLHqxYS5yN-V"
      },
      "execution_count": null,
      "outputs": []
    },
    {
      "cell_type": "code",
      "metadata": {
        "id": "MnrsPOq830w7"
      },
      "source": [
        "father = kanren.Relation()\n",
        "mother = kanren.Relation()\n",
        "print(father)\n",
        "print(mother)"
      ],
      "execution_count": null,
      "outputs": []
    },
    {
      "cell_type": "code",
      "metadata": {
        "id": "X9LDNUAP32lu"
      },
      "source": [
        "data = '{\\\n",
        "\t\"father\":\\\n",
        "\t[\\\n",
        "\t\t{\"John\": \"William\"},\\\n",
        "\t\t{\"John\": \"David\"},\\\n",
        "\t\t{\"John\": \"Adam\"},\\\n",
        "\t\t{\"William\": \"Chris\"},\\\n",
        "\t\t{\"William\": \"Stephanie\"},\\\n",
        "\t\t{\"David\": \"Wayne\"},\\\n",
        "\t\t{\"David\": \"Tiffany\"},\\\n",
        "\t\t{\"David\": \"Julie\"},\\\n",
        "\t\t{\"David\": \"Neil\"},\\\n",
        "\t\t{\"David\": \"Peter\"},\\\n",
        "\t\t{\"Adam\": \"Sophia\"}\\\n",
        "\t\t],\\\n",
        "\t\"mother\":\\\n",
        "\t[\\\n",
        "\t\t{\"Megan\": \"William\"},\\\n",
        "\t\t{\"Megan\": \"David\"},\\\n",
        "\t\t{\"Megan\": \"Adam\"},\\\n",
        "\t\t{\"Emma\": \"Stephanie\"},\\\n",
        "\t\t{\"Emma\": \"Chris\"},\\\n",
        "\t\t{\"Olivia\": \"Tiffany\"},\\\n",
        "\t\t{\"Olivia\": \"Julie\"},\\\n",
        "\t\t{\"Olivia\": \"Neil\"},\\\n",
        "\t\t{\"Olivia\": \"Peter\"},\\\n",
        "\t\t{\"Lily\": \"Sophia\"}\\\n",
        "\t]\\\n",
        "}'"
      ],
      "execution_count": null,
      "outputs": []
    },
    {
      "cell_type": "code",
      "metadata": {
        "id": "ThQP8ayy328e"
      },
      "source": [
        "d = json.loads(data)\n",
        "print(d)"
      ],
      "execution_count": null,
      "outputs": []
    },
    {
      "cell_type": "code",
      "metadata": {
        "id": "1g_HTdy85vJ2"
      },
      "source": [
        "for item in d['father']:\n",
        "    kanren.facts(father, (list(item.keys())[0], list(item.values())[0]))\n",
        "            \n",
        "for item in d['mother']:\n",
        "    kanren.facts(mother, (list(item.keys())[0], list(item.values())[0]))"
      ],
      "execution_count": null,
      "outputs": []
    },
    {
      "cell_type": "markdown",
      "metadata": {
        "id": "motRQ39i7xUq"
      },
      "source": [
        "### A. Complete as funções abaixo e responda às perguntas que se seguem."
      ]
    },
    {
      "cell_type": "code",
      "metadata": {
        "id": "y6_X8PMr7fP7"
      },
      "source": [
        "# Verifica se x e y são irmãos\n",
        "def sibling(x, y):\n",
        "    w = kanren.var()\n",
        "    return kanren.conde((parent(w, x), parent(w, y)))"
      ],
      "execution_count": null,
      "outputs": []
    },
    {
      "cell_type": "code",
      "metadata": {
        "id": "-l-s3buk7oS6"
      },
      "source": [
        "# Verifica se x é tio de y\n",
        "def uncle(x, y):\n",
        "  z = kanren.var()\n",
        "  # e substitua o valor de retorno.\n",
        "  return kanren.conde((father(z, x), grandparent(z, y)))"
      ],
      "execution_count": null,
      "outputs": []
    },
    {
      "cell_type": "markdown",
      "metadata": {
        "id": "qr8xP7J_6tT7"
      },
      "source": [
        "### 1. Quem são os filhos do John?"
      ]
    },
    {
      "cell_type": "code",
      "metadata": {
        "id": "Y4b5ff2J6t0M",
        "colab": {
          "base_uri": "https://localhost:8080/"
        },
        "outputId": "b5ce96e7-1755-44e4-ef49-710fa8289a7f"
      },
      "source": [
        "x = kanren.var()\n",
        "name = \"John\"\n",
        "output = kanren.run(0, x, father(name, x))\n",
        "for item in output:\n",
        "    print(item)"
      ],
      "execution_count": null,
      "outputs": [
        {
          "output_type": "stream",
          "name": "stdout",
          "text": [
            "William\n",
            "David\n",
            "Adam\n"
          ]
        }
      ]
    },
    {
      "cell_type": "markdown",
      "metadata": {
        "id": "CS61uXlI6uMi"
      },
      "source": [
        "### 2. Quem é a mãe do William?"
      ]
    },
    {
      "cell_type": "code",
      "metadata": {
        "id": "zWGW6Sy46uRx",
        "colab": {
          "base_uri": "https://localhost:8080/"
        },
        "outputId": "23edccb7-92b5-411b-d5d6-b30d91ab3dc5"
      },
      "source": [
        "name = 'William'\n",
        "output = kanren.run(0, x, mother(x, name))[0]\n",
        "print(output)"
      ],
      "execution_count": null,
      "outputs": [
        {
          "output_type": "stream",
          "name": "stdout",
          "text": [
            "Megan\n"
          ]
        }
      ]
    },
    {
      "cell_type": "markdown",
      "metadata": {
        "id": "uPZMWrIY6uX6"
      },
      "source": [
        "### 3. Quem são os pais do Adam?"
      ]
    },
    {
      "cell_type": "code",
      "metadata": {
        "id": "_F_RJweV6udM",
        "colab": {
          "base_uri": "https://localhost:8080/"
        },
        "outputId": "caf682ea-418c-4a72-828b-38c3ae455202"
      },
      "source": [
        "name = 'Adam'\n",
        "output = kanren.run(0, x, parent(x, name))\n",
        "for item in output:\n",
        "    print(item)"
      ],
      "execution_count": null,
      "outputs": [
        {
          "output_type": "stream",
          "name": "stdout",
          "text": [
            "John\n",
            "Megan\n"
          ]
        }
      ]
    },
    {
      "cell_type": "markdown",
      "metadata": {
        "id": "TqqK7IfQ7CCO"
      },
      "source": [
        "### 4. Quem são os pais do Wayne?"
      ]
    },
    {
      "cell_type": "code",
      "metadata": {
        "id": "CE8UdYTN7CKz",
        "colab": {
          "base_uri": "https://localhost:8080/"
        },
        "outputId": "1023f467-476f-4b5f-a4ad-81c94acf8380"
      },
      "source": [
        "name = 'Wayne'\n",
        "output = kanren.run(0, x, parent(x, name))\n",
        "for item in output:\n",
        "    print(item)"
      ],
      "execution_count": null,
      "outputs": [
        {
          "output_type": "stream",
          "name": "stdout",
          "text": [
            "David\n"
          ]
        }
      ]
    },
    {
      "cell_type": "markdown",
      "metadata": {
        "id": "LrhOBuLP7CRy"
      },
      "source": [
        "### 5. Quem são os netos da Megan?"
      ]
    },
    {
      "cell_type": "code",
      "metadata": {
        "id": "Ltc1B5mw7CXs",
        "colab": {
          "base_uri": "https://localhost:8080/"
        },
        "outputId": "b27c2e54-927a-416a-c938-9acdf213e249"
      },
      "source": [
        "x = kanren.var()\n",
        "name = \"Megan\"\n",
        "output = kanren.run(0, x, grandparent(name, x))\n",
        "for item in output:\n",
        "    print(item)"
      ],
      "execution_count": null,
      "outputs": [
        {
          "output_type": "stream",
          "name": "stdout",
          "text": [
            "Chris\n",
            "Peter\n",
            "Sophia\n",
            "Stephanie\n",
            "Neil\n",
            "Julie\n",
            "Tiffany\n",
            "Wayne\n"
          ]
        }
      ]
    },
    {
      "cell_type": "markdown",
      "metadata": {
        "id": "EJXyy2BN7Ifz"
      },
      "source": [
        "### 6. Quem são os irmãos do David?"
      ]
    },
    {
      "cell_type": "code",
      "metadata": {
        "id": "OyXUw6hC7ImK",
        "colab": {
          "base_uri": "https://localhost:8080/"
        },
        "outputId": "ac778bad-4df9-411f-8c88-2c57cbd041a5"
      },
      "source": [
        "x = kanren.var()\n",
        "name = \"David\"\n",
        "output = kanren.run(0, x, sibling(x, name))\n",
        "for item in output:\n",
        "    print(item)"
      ],
      "execution_count": null,
      "outputs": [
        {
          "output_type": "stream",
          "name": "stdout",
          "text": [
            "Adam\n",
            "William\n",
            "David\n"
          ]
        }
      ]
    },
    {
      "cell_type": "markdown",
      "metadata": {
        "id": "7_OGugNp7IrO"
      },
      "source": [
        "### 7. Quem são os tios da Tiffany?"
      ]
    },
    {
      "cell_type": "code",
      "metadata": {
        "id": "CwKLiK7w7Iwc",
        "colab": {
          "base_uri": "https://localhost:8080/"
        },
        "outputId": "5177b3ca-0437-4adb-a82a-42132527f14c"
      },
      "source": [
        "name = \"Tiffany\"\n",
        "output = kanren.run(0, x, uncle(x, name))\n",
        "for item in output:\n",
        "    print(item)"
      ],
      "execution_count": null,
      "outputs": [
        {
          "output_type": "stream",
          "name": "stdout",
          "text": [
            "Adam\n",
            "David\n",
            "William\n"
          ]
        }
      ]
    }
  ]
}